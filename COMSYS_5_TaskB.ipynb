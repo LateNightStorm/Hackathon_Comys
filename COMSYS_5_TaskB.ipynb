{
 "cells": [
  {
   "cell_type": "code",
   "execution_count": 1,
   "metadata": {
    "colab": {
     "base_uri": "https://localhost:8080/"
    },
    "executionInfo": {
     "elapsed": 28319,
     "status": "ok",
     "timestamp": 1751111042760,
     "user": {
      "displayName": "Aneek Mallick",
      "userId": "16622317247729757216"
     },
     "user_tz": -330
    },
    "id": "v7QzOTs6EkaE",
    "outputId": "d770fc1d-f950-4c2b-d64c-7475dcf90646"
   },
   "outputs": [
    {
     "name": "stdout",
     "output_type": "stream",
     "text": [
      "Mounted at /content/drive\n"
     ]
    }
   ],
   "source": [
    "from google.colab import drive\n",
    "drive.mount('/content/drive')"
   ]
  },
  {
   "cell_type": "code",
   "execution_count": 2,
   "metadata": {
    "executionInfo": {
     "elapsed": 8783,
     "status": "ok",
     "timestamp": 1751111051553,
     "user": {
      "displayName": "Aneek Mallick",
      "userId": "16622317247729757216"
     },
     "user_tz": -330
    },
    "id": "5sq_Io66awJf"
   },
   "outputs": [],
   "source": [
    "import os\n",
    "import torch\n",
    "import random\n",
    "import numpy as np\n",
    "\n",
    "from PIL import Image\n",
    "from collections import Counter\n",
    "import matplotlib.pyplot as plt\n",
    "\n",
    "import torch.nn as nn\n",
    "import torch.optim as optim\n",
    "from tqdm import tqdm\n",
    "from torch.cuda.amp import autocast, GradScaler\n",
    "from torchvision import transforms\n",
    "from torchvision.models import resnet18\n",
    "import torchvision.transforms.functional as TF\n",
    "import torch.nn.functional as F\n",
    "from torch.utils.data import DataLoader, Dataset, random_split"
   ]
  },
  {
   "cell_type": "code",
   "execution_count": 3,
   "metadata": {
    "colab": {
     "base_uri": "https://localhost:8080/"
    },
    "executionInfo": {
     "elapsed": 58,
     "status": "ok",
     "timestamp": 1751111051616,
     "user": {
      "displayName": "Aneek Mallick",
      "userId": "16622317247729757216"
     },
     "user_tz": -330
    },
    "id": "eTACzg2_9ugm",
    "outputId": "98065039-ca0e-45c5-d7d1-26cb97b2b0e9"
   },
   "outputs": [
    {
     "data": {
      "text/plain": [
       "2"
      ]
     },
     "execution_count": 3,
     "metadata": {},
     "output_type": "execute_result"
    }
   ],
   "source": [
    "os.cpu_count()"
   ]
  },
  {
   "cell_type": "code",
   "execution_count": 4,
   "metadata": {
    "colab": {
     "base_uri": "https://localhost:8080/"
    },
    "executionInfo": {
     "elapsed": 14,
     "status": "ok",
     "timestamp": 1751111051636,
     "user": {
      "displayName": "Aneek Mallick",
      "userId": "16622317247729757216"
     },
     "user_tz": -330
    },
    "id": "iZpEiO-yzd0k",
    "outputId": "927dcfa1-bef0-4c59-8042-577652d611c7"
   },
   "outputs": [
    {
     "data": {
      "text/plain": [
       "<torch._C.Generator at 0x78aa66a39410>"
      ]
     },
     "execution_count": 4,
     "metadata": {},
     "output_type": "execute_result"
    }
   ],
   "source": [
    "def seed_everything(seed=42):\n",
    "    random.seed(seed)\n",
    "    np.random.seed(seed)\n",
    "    torch.manual_seed(seed)\n",
    "    torch.cuda.manual_seed(seed)\n",
    "    torch.backends.cudnn.deterministic = True\n",
    "    torch.backends.cudnn.benchmark = False\n",
    "    os.environ['PYTHONHASHSEED'] = str(seed)\n",
    "\n",
    "def seed_worker(worker_id):\n",
    "    worker_seed = torch.initial_seed() % 2**32\n",
    "    np.random.seed(worker_seed)\n",
    "    random.seed(worker_seed)\n",
    "\n",
    "seed_everything(42)\n",
    "g = torch.Generator()\n",
    "g.manual_seed(42)"
   ]
  },
  {
   "cell_type": "code",
   "execution_count": 5,
   "metadata": {
    "executionInfo": {
     "elapsed": 33,
     "status": "ok",
     "timestamp": 1751111051673,
     "user": {
      "displayName": "Aneek Mallick",
      "userId": "16622317247729757216"
     },
     "user_tz": -330
    },
    "id": "SZS9j2n6a04H"
   },
   "outputs": [],
   "source": [
    "base_path = '/content/drive/MyDrive/DATASET/Comys_Hackathon5/Comys_Hackathon5/Task_B'"
   ]
  },
  {
   "cell_type": "code",
   "execution_count": 6,
   "metadata": {
    "executionInfo": {
     "elapsed": 10,
     "status": "ok",
     "timestamp": 1751111051681,
     "user": {
      "displayName": "Aneek Mallick",
      "userId": "16622317247729757216"
     },
     "user_tz": -330
    },
    "id": "PpaESWWVbV-4"
   },
   "outputs": [],
   "source": [
    "def show_items(path, depth=0,files=3):\n",
    "    if not os.path.isdir(path):\n",
    "        return\n",
    "\n",
    "    indent = \"--\" * depth\n",
    "    print(f\"{indent} {os.path.basename(path)}/\")\n",
    "\n",
    "    try:\n",
    "        items = sorted(os.listdir(path))[:files]\n",
    "    except Exception as e:\n",
    "        print(f\"{indent}  [Error accessing {path}]: {e}\")\n",
    "        return\n",
    "\n",
    "    for item in items:\n",
    "        item_path = os.path.join(path, item)\n",
    "        if os.path.isdir(item_path):\n",
    "            show_items(item_path, depth + 1,files)\n",
    "        else:\n",
    "            print(f\"{indent}   {item}\")"
   ]
  },
  {
   "cell_type": "code",
   "execution_count": 7,
   "metadata": {
    "colab": {
     "base_uri": "https://localhost:8080/"
    },
    "collapsed": true,
    "executionInfo": {
     "elapsed": 13340,
     "status": "ok",
     "timestamp": 1751111065026,
     "user": {
      "displayName": "Aneek Mallick",
      "userId": "16622317247729757216"
     },
     "user_tz": -330
    },
    "id": "a9BTAbEHbz9b",
    "outputId": "0fc53a2d-f8a0-4757-cd5b-07181b1e8d8d"
   },
   "outputs": [
    {
     "name": "stdout",
     "output_type": "stream",
     "text": [
      " Task_B/\n",
      "-- train/\n",
      "---- 001_frontal/\n",
      "----   001_frontal.jpg\n",
      "------ distortion/\n",
      "------   001_frontal_blurred.jpg\n",
      "------   001_frontal_foggy.jpg\n",
      "------   001_frontal_lowlight.jpg\n",
      "------   001_frontal_noisy.jpg\n",
      "------   001_frontal_rainy.jpg\n",
      "------   001_frontal_resized.jpg\n",
      "------   001_frontal_sunny.jpg\n",
      "---- 002_frontal/\n",
      "----   002_frontal.jpg\n",
      "------ distortion/\n",
      "------   002_frontal_blurred.jpg\n",
      "------   002_frontal_foggy.jpg\n",
      "------   002_frontal_lowlight.jpg\n",
      "------   002_frontal_noisy.jpg\n",
      "------   002_frontal_rainy.jpg\n",
      "------   002_frontal_resized.jpg\n",
      "------   002_frontal_sunny.jpg\n",
      "---- 003_frontal/\n",
      "----   003_frontal.jpg\n",
      "------ distortion/\n",
      "------   003_frontal_blurred.jpg\n",
      "------   003_frontal_foggy.jpg\n",
      "------   003_frontal_lowlight.jpg\n",
      "------   003_frontal_noisy.jpg\n",
      "------   003_frontal_rainy.jpg\n",
      "------   003_frontal_resized.jpg\n",
      "------   003_frontal_sunny.jpg\n",
      "---- 004_frontal/\n",
      "----   004_frontal.jpg\n",
      "------ distortion/\n",
      "------   004_frontal_blurred.jpg\n",
      "------   004_frontal_foggy.jpg\n",
      "------   004_frontal_lowlight.jpg\n",
      "------   004_frontal_noisy.jpg\n",
      "------   004_frontal_rainy.jpg\n",
      "------   004_frontal_resized.jpg\n",
      "------   004_frontal_sunny.jpg\n",
      "---- 005_frontal/\n",
      "----   005_frontal.jpg\n",
      "------ distortion/\n",
      "------   005_frontal_blurred.jpg\n",
      "------   005_frontal_foggy.jpg\n",
      "------   005_frontal_lowlight.jpg\n",
      "------   005_frontal_noisy.jpg\n",
      "------   005_frontal_rainy.jpg\n",
      "------   005_frontal_resized.jpg\n",
      "------   005_frontal_sunny.jpg\n",
      "---- 007_frontal/\n",
      "----   007_frontal.jpg\n",
      "------ distortion/\n",
      "------   007_frontal_blurred.jpg\n",
      "------   007_frontal_foggy.jpg\n",
      "------   007_frontal_lowlight.jpg\n",
      "------   007_frontal_noisy.jpg\n",
      "------   007_frontal_rainy.jpg\n",
      "------   007_frontal_resized.jpg\n",
      "------   007_frontal_sunny.jpg\n",
      "---- 008_frontal/\n",
      "----   008_frontal.jpg\n",
      "------ distortion/\n",
      "------   008_frontal_blurred.jpg\n",
      "------   008_frontal_foggy.jpg\n",
      "------   008_frontal_lowlight.jpg\n",
      "------   008_frontal_noisy.jpg\n",
      "------   008_frontal_rainy.jpg\n",
      "------   008_frontal_resized.jpg\n",
      "------   008_frontal_sunny.jpg\n",
      "---- 010_frontal/\n",
      "----   010_frontal.jpg\n",
      "------ distortion/\n",
      "------   010_frontal_blurred.jpg\n",
      "------   010_frontal_foggy.jpg\n",
      "------   010_frontal_lowlight.jpg\n",
      "------   010_frontal_noisy.jpg\n",
      "------   010_frontal_rainy.jpg\n",
      "------   010_frontal_resized.jpg\n",
      "------   010_frontal_sunny.jpg\n",
      "---- 011_frontal/\n",
      "----   011_frontal.jpg\n",
      "------ distortion/\n",
      "------   011_frontal_blurred.jpg\n",
      "------   011_frontal_foggy.jpg\n",
      "------   011_frontal_lowlight.jpg\n",
      "------   011_frontal_noisy.jpg\n",
      "------   011_frontal_rainy.jpg\n",
      "------   011_frontal_resized.jpg\n",
      "------   011_frontal_sunny.jpg\n",
      "---- 012_frontal/\n",
      "----   012_frontal.jpg\n",
      "------ distortion/\n",
      "------   012_frontal_blurred.jpg\n",
      "------   012_frontal_foggy.jpg\n",
      "------   012_frontal_lowlight.jpg\n",
      "------   012_frontal_noisy.jpg\n",
      "------   012_frontal_rainy.jpg\n",
      "------   012_frontal_resized.jpg\n",
      "------   012_frontal_sunny.jpg\n",
      "---- 013_frontal/\n",
      "----   013_frontal.jpg\n",
      "------ distortion/\n",
      "------   013_frontal_blurred.jpg\n",
      "------   013_frontal_foggy.jpg\n",
      "------   013_frontal_lowlight.jpg\n",
      "------   013_frontal_noisy.jpg\n",
      "------   013_frontal_rainy.jpg\n",
      "------   013_frontal_resized.jpg\n",
      "------   013_frontal_sunny.jpg\n",
      "---- 014_frontal/\n",
      "----   014_frontal.jpg\n",
      "------ distortion/\n",
      "------   014_frontal_blurred.jpg\n",
      "------   014_frontal_foggy.jpg\n",
      "------   014_frontal_lowlight.jpg\n",
      "------   014_frontal_noisy.jpg\n",
      "------   014_frontal_rainy.jpg\n",
      "------   014_frontal_resized.jpg\n",
      "------   014_frontal_sunny.jpg\n",
      "---- 015_frontal/\n",
      "----   015_frontal.jpg\n",
      "------ distortion/\n",
      "------   015_frontal_blurred.jpg\n",
      "------   015_frontal_foggy.jpg\n",
      "------   015_frontal_lowlight.jpg\n",
      "------   015_frontal_noisy.jpg\n",
      "------   015_frontal_rainy.jpg\n",
      "------   015_frontal_resized.jpg\n",
      "------   015_frontal_sunny.jpg\n",
      "---- 016_frontal/\n",
      "----   016_frontal.jpg\n",
      "------ distortion/\n",
      "------   016_frontal_blurred.jpg\n",
      "------   016_frontal_foggy.jpg\n",
      "------   016_frontal_lowlight.jpg\n",
      "------   016_frontal_noisy.jpg\n",
      "------   016_frontal_rainy.jpg\n",
      "------   016_frontal_resized.jpg\n",
      "------   016_frontal_sunny.jpg\n",
      "---- 019_frontal/\n",
      "----   019_frontal.jpg\n",
      "------ distortion/\n",
      "------   019_frontal_blurred.jpg\n",
      "------   019_frontal_foggy.jpg\n",
      "------   019_frontal_lowlight.jpg\n",
      "------   019_frontal_noisy.jpg\n",
      "------   019_frontal_rainy.jpg\n",
      "------   019_frontal_resized.jpg\n",
      "------   019_frontal_sunny.jpg\n",
      "-- val/\n",
      "---- 009_frontal/\n",
      "----   009_frontal.jpg\n",
      "------ distortion/\n",
      "------   009_frontal_blurred.jpg\n",
      "------   009_frontal_foggy.jpg\n",
      "------   009_frontal_lowlight.jpg\n",
      "------   009_frontal_noisy.jpg\n",
      "------   009_frontal_rainy.jpg\n",
      "------   009_frontal_resized.jpg\n",
      "------   009_frontal_sunny.jpg\n",
      "---- 017_frontal/\n",
      "----   017_frontal.jpg\n",
      "------ distortion/\n",
      "------   017_frontal_blurred.jpg\n",
      "------   017_frontal_foggy.jpg\n",
      "------   017_frontal_lowlight.jpg\n",
      "------   017_frontal_noisy.jpg\n",
      "------   017_frontal_rainy.jpg\n",
      "------   017_frontal_resized.jpg\n",
      "------   017_frontal_sunny.jpg\n",
      "---- 018_frontal/\n",
      "----   018_frontal.jpg\n",
      "------ distortion/\n",
      "------   018_frontal_blurred.jpg\n",
      "------   018_frontal_foggy.jpg\n",
      "------   018_frontal_lowlight.jpg\n",
      "------   018_frontal_noisy.jpg\n",
      "------   018_frontal_rainy.jpg\n",
      "------   018_frontal_resized.jpg\n",
      "------   018_frontal_sunny.jpg\n",
      "---- 023_frontal/\n",
      "----   023_frontal.jpg\n",
      "------ distortion/\n",
      "------   023_frontal_blurred.jpg\n",
      "------   023_frontal_foggy.jpg\n",
      "------   023_frontal_lowlight.jpg\n",
      "------   023_frontal_noisy.jpg\n",
      "------   023_frontal_rainy.jpg\n",
      "------   023_frontal_resized.jpg\n",
      "------   023_frontal_sunny.jpg\n",
      "---- 024_frontal/\n",
      "----   024_frontal.jpg\n",
      "------ distortion/\n",
      "------   024_frontal_blurred.jpg\n",
      "------   024_frontal_foggy.jpg\n",
      "------   024_frontal_lowlight.jpg\n",
      "------   024_frontal_noisy.jpg\n",
      "------   024_frontal_rainy.jpg\n",
      "------   024_frontal_resized.jpg\n",
      "------   024_frontal_sunny.jpg\n",
      "---- 033_frontal/\n",
      "----   033_frontal.jpg\n",
      "------ distortion/\n",
      "------   033_frontal_blurred.jpg\n",
      "------   033_frontal_foggy.jpg\n",
      "------   033_frontal_lowlight.jpg\n",
      "------   033_frontal_noisy.jpg\n",
      "------   033_frontal_rainy.jpg\n",
      "------   033_frontal_resized.jpg\n",
      "------   033_frontal_sunny.jpg\n",
      "---- 034_frontal/\n",
      "----   034_frontal.jpg\n",
      "------ distortion/\n",
      "------   034_frontal_blurred.jpg\n",
      "------   034_frontal_foggy.jpg\n",
      "------   034_frontal_lowlight.jpg\n",
      "------   034_frontal_noisy.jpg\n",
      "------   034_frontal_rainy.jpg\n",
      "------   034_frontal_resized.jpg\n",
      "------   034_frontal_sunny.jpg\n",
      "---- 037_frontal/\n",
      "----   037_frontal.jpg\n",
      "------ distortion/\n",
      "------   037_frontal_blurred.jpg\n",
      "------   037_frontal_foggy.jpg\n",
      "------   037_frontal_lowlight.jpg\n",
      "------   037_frontal_noisy.jpg\n",
      "------   037_frontal_rainy.jpg\n",
      "------   037_frontal_resized.jpg\n",
      "------   037_frontal_sunny.jpg\n",
      "---- 041_frontal/\n",
      "----   041_frontal.jpg\n",
      "------ distortion/\n",
      "------   041_frontal_blurred.jpg\n",
      "------   041_frontal_foggy.jpg\n",
      "------   041_frontal_lowlight.jpg\n",
      "------   041_frontal_noisy.jpg\n",
      "------   041_frontal_rainy.jpg\n",
      "------   041_frontal_resized.jpg\n",
      "------   041_frontal_sunny.jpg\n",
      "---- 046_frontal/\n",
      "----   046_frontal.jpg\n",
      "------ distortion/\n",
      "------   046_frontal_blurred.jpg\n",
      "------   046_frontal_foggy.jpg\n",
      "------   046_frontal_lowlight.jpg\n",
      "------   046_frontal_noisy.jpg\n",
      "------   046_frontal_rainy.jpg\n",
      "------   046_frontal_resized.jpg\n",
      "------   046_frontal_sunny.jpg\n",
      "---- 049_frontal/\n",
      "----   049_frontal.jpg\n",
      "------ distortion/\n",
      "------   049_frontal_blurred.jpg\n",
      "------   049_frontal_foggy.jpg\n",
      "------   049_frontal_lowlight.jpg\n",
      "------   049_frontal_noisy.jpg\n",
      "------   049_frontal_rainy.jpg\n",
      "------   049_frontal_resized.jpg\n",
      "------   049_frontal_sunny.jpg\n",
      "---- 050_frontal/\n",
      "----   050_frontal.jpg\n",
      "------ distortion/\n",
      "------   050_frontal_blurred.jpg\n",
      "------   050_frontal_foggy.jpg\n",
      "------   050_frontal_lowlight.jpg\n",
      "------   050_frontal_noisy.jpg\n",
      "------   050_frontal_rainy.jpg\n",
      "------   050_frontal_resized.jpg\n",
      "------   050_frontal_sunny.jpg\n",
      "---- 052_frontal/\n",
      "----   052_frontal.jpg\n",
      "------ distortion/\n",
      "------   052_frontal_blurred.jpg\n",
      "------   052_frontal_foggy.jpg\n",
      "------   052_frontal_lowlight.jpg\n",
      "------   052_frontal_noisy.jpg\n",
      "------   052_frontal_rainy.jpg\n",
      "------   052_frontal_resized.jpg\n",
      "------   052_frontal_sunny.jpg\n",
      "---- 058_frontal/\n",
      "----   058_frontal.jpg\n",
      "------ distortion/\n",
      "------   058_frontal_blurred.jpg\n",
      "------   058_frontal_foggy.jpg\n",
      "------   058_frontal_lowlight.jpg\n",
      "------   058_frontal_noisy.jpg\n",
      "------   058_frontal_rainy.jpg\n",
      "------   058_frontal_resized.jpg\n",
      "------   058_frontal_sunny.jpg\n",
      "---- 061_frontal/\n",
      "----   061_frontal.jpg\n",
      "------ distortion/\n",
      "------   061_frontal_blurred.jpg\n",
      "------   061_frontal_foggy.jpg\n",
      "------   061_frontal_lowlight.jpg\n",
      "------   061_frontal_noisy.jpg\n",
      "------   061_frontal_rainy.jpg\n",
      "------   061_frontal_resized.jpg\n",
      "------   061_frontal_sunny.jpg\n"
     ]
    }
   ],
   "source": [
    "show_items(base_path, files=15)"
   ]
  },
  {
   "cell_type": "code",
   "execution_count": 8,
   "metadata": {
    "executionInfo": {
     "elapsed": 34,
     "status": "ok",
     "timestamp": 1751111065065,
     "user": {
      "displayName": "Aneek Mallick",
      "userId": "16622317247729757216"
     },
     "user_tz": -330
    },
    "id": "54J5f8_ddM27"
   },
   "outputs": [],
   "source": [
    "class TripletFaceDataset(Dataset):\n",
    "    def __init__(self, root_dir, transform=None, include_distortions=True):\n",
    "        self.transform = transform\n",
    "        self.data = {}\n",
    "        self.people = []\n",
    "        self.samples = []\n",
    "\n",
    "        for person_id in sorted(os.listdir(root_dir)):\n",
    "            person_path = os.path.join(root_dir, person_id)\n",
    "            if not os.path.isdir(person_path):\n",
    "                continue\n",
    "\n",
    "            all_images = []\n",
    "            for file in os.listdir(person_path):\n",
    "                if file.endswith(\".jpg\") and file != \"distortion\":\n",
    "                    all_images.append(os.path.join(person_path, file))\n",
    "            if include_distortions:\n",
    "                distortion_dir = os.path.join(person_path, \"distortion\")\n",
    "                if os.path.exists(distortion_dir):\n",
    "                    for dfile in os.listdir(distortion_dir):\n",
    "                        if dfile.endswith(\".jpg\"):\n",
    "                            all_images.append(os.path.join(distortion_dir, dfile))\n",
    "\n",
    "            if len(all_images) >= 2:\n",
    "                self.data[person_id] = all_images\n",
    "                self.people.append(person_id)\n",
    "\n",
    "        for person_id in self.people:\n",
    "            anchors, positive_ids=[], []\n",
    "            for img_path in self.data[person_id]:\n",
    "                if \"distortion\" in img_path:\n",
    "                    positive_ids.append(img_path)\n",
    "                else:\n",
    "                    anchors.append(img_path)\n",
    "\n",
    "            for anchor in anchors:\n",
    "                for positive_id in positive_ids:\n",
    "                    if anchor.split(\"/\")[-1].strip(\".jpg\") in positive_id:\n",
    "                        neg_person = random.choice([p for p in self.people if p != person_id])\n",
    "                        self.samples.append((anchor, positive_id, random.choice(self.data[neg_person])))\n",
    "\n",
    "    def __len__(self):\n",
    "        return len(self.samples)\n",
    "\n",
    "    def __getitem__(self, idx):\n",
    "        a_path, p_path, n_path = self.samples[idx]\n",
    "\n",
    "        anchor = Image.open(a_path).convert(\"RGB\")\n",
    "        positive = Image.open(p_path).convert(\"RGB\")\n",
    "        negative = Image.open(n_path).convert(\"RGB\")\n",
    "\n",
    "        anchor_label = os.path.basename(os.path.dirname(os.path.dirname(a_path))) \\\n",
    "        if \"distortion\" in a_path else os.path.basename(os.path.dirname(a_path))\n",
    "\n",
    "        if self.transform:\n",
    "            anchor = self.transform(anchor)\n",
    "            positive = self.transform(positive)\n",
    "            negative = self.transform(negative)\n",
    "\n",
    "        return anchor, positive, negative, anchor_label"
   ]
  },
  {
   "cell_type": "code",
   "execution_count": 9,
   "metadata": {
    "executionInfo": {
     "elapsed": 8,
     "status": "ok",
     "timestamp": 1751111065081,
     "user": {
      "displayName": "Aneek Mallick",
      "userId": "16622317247729757216"
     },
     "user_tz": -330
    },
    "id": "72g2YZChOd82"
   },
   "outputs": [],
   "source": [
    "class EmbeddingNet(nn.Module):\n",
    "    def __init__(self, embedding_size=128,pretrained=True):\n",
    "        super().__init__()\n",
    "        self.backbone = resnet18(pretrained=pretrained)\n",
    "        self.backbone.fc = nn.Linear(self.backbone.fc.in_features, embedding_size)\n",
    "\n",
    "    def forward(self, x):\n",
    "        return self.backbone(x)"
   ]
  },
  {
   "cell_type": "code",
   "execution_count": 10,
   "metadata": {
    "executionInfo": {
     "elapsed": 8,
     "status": "ok",
     "timestamp": 1751111065125,
     "user": {
      "displayName": "Aneek Mallick",
      "userId": "16622317247729757216"
     },
     "user_tz": -330
    },
    "id": "EaFrZ-H2Ol8x"
   },
   "outputs": [],
   "source": [
    "def triplet_loss(anchor, positive, negative, margin=1.0):\n",
    "    pos_dist = F.pairwise_distance(anchor, positive)\n",
    "    neg_dist = F.pairwise_distance(anchor, negative)\n",
    "    loss = F.relu(pos_dist - neg_dist + margin)\n",
    "    return loss.mean()"
   ]
  },
  {
   "cell_type": "code",
   "execution_count": 11,
   "metadata": {
    "executionInfo": {
     "elapsed": 5,
     "status": "ok",
     "timestamp": 1751111065138,
     "user": {
      "displayName": "Aneek Mallick",
      "userId": "16622317247729757216"
     },
     "user_tz": -330
    },
    "id": "dUDkSgb8kLLW"
   },
   "outputs": [],
   "source": [
    "transform = transforms.Compose([\n",
    "    transforms.Resize((256, 256)),\n",
    "    transforms.ToTensor(),\n",
    "])"
   ]
  },
  {
   "cell_type": "code",
   "execution_count": 12,
   "metadata": {
    "executionInfo": {
     "elapsed": 195089,
     "status": "ok",
     "timestamp": 1751111260234,
     "user": {
      "displayName": "Aneek Mallick",
      "userId": "16622317247729757216"
     },
     "user_tz": -330
    },
    "id": "FRN2ZGQujr2o"
   },
   "outputs": [],
   "source": [
    "train_dataset = TripletFaceDataset(\n",
    "    root_dir=os.path.join(base_path, \"train\"),\n",
    "    transform=transform\n",
    ")\n",
    "\n",
    "val_dataset = TripletFaceDataset(\n",
    "    root_dir=os.path.join(base_path, \"val\"),\n",
    "    transform=transform\n",
    ")"
   ]
  },
  {
   "cell_type": "code",
   "execution_count": 13,
   "metadata": {
    "colab": {
     "base_uri": "https://localhost:8080/"
    },
    "executionInfo": {
     "elapsed": 1786,
     "status": "ok",
     "timestamp": 1751111262006,
     "user": {
      "displayName": "Aneek Mallick",
      "userId": "16622317247729757216"
     },
     "user_tz": -330
    },
    "id": "kt3XTdPrRajw",
    "outputId": "b99e2b8e-2a5a-4598-dd96-5966cd1e6fef"
   },
   "outputs": [
    {
     "data": {
      "text/plain": [
       "(13482, 2954)"
      ]
     },
     "execution_count": 13,
     "metadata": {},
     "output_type": "execute_result"
    }
   ],
   "source": [
    "total_files_trn,total_files_val=0,0\n",
    "for root, dirs, files in os.walk(os.path.join(base_path, \"train\")):\n",
    "    for d in dirs:\n",
    "        if d == \"distortion\":\n",
    "            distortion_path = os.path.join(root, d)\n",
    "            for _, _, distortion_files in os.walk(distortion_path):\n",
    "                total_files_trn += len(distortion_files)\n",
    "\n",
    "for root, dirs, files in os.walk(os.path.join(base_path, \"val\")):\n",
    "    for d in dirs:\n",
    "        if d == \"distortion\":\n",
    "            distortion_path = os.path.join(root, d)\n",
    "            for _, _, distortion_files in os.walk(distortion_path):\n",
    "                total_files_val += len(distortion_files)\n",
    "total_files_trn,total_files_val"
   ]
  },
  {
   "cell_type": "code",
   "execution_count": 14,
   "metadata": {
    "colab": {
     "base_uri": "https://localhost:8080/"
    },
    "executionInfo": {
     "elapsed": 32,
     "status": "ok",
     "timestamp": 1751111262050,
     "user": {
      "displayName": "Aneek Mallick",
      "userId": "16622317247729757216"
     },
     "user_tz": -330
    },
    "id": "Ai8wiQAnP6Jd",
    "outputId": "d82ccbf5-fd67-46b1-c64f-8c30363f3e69"
   },
   "outputs": [
    {
     "data": {
      "text/plain": [
       "(13482, 2954)"
      ]
     },
     "execution_count": 14,
     "metadata": {},
     "output_type": "execute_result"
    }
   ],
   "source": [
    "len(train_dataset), len(val_dataset)"
   ]
  },
  {
   "cell_type": "code",
   "execution_count": 15,
   "metadata": {
    "colab": {
     "base_uri": "https://localhost:8080/",
     "height": 1000,
     "output_embedded_package_id": "11Xu5LlLQwu0ICebm0I8Zg3WhL990tf4j"
    },
    "collapsed": true,
    "executionInfo": {
     "elapsed": 14845,
     "status": "ok",
     "timestamp": 1751111276902,
     "user": {
      "displayName": "Aneek Mallick",
      "userId": "16622317247729757216"
     },
     "user_tz": -330
    },
    "id": "C8B1zFXsK9bf",
    "outputId": "0a71430f-b9bb-4d75-95ed-03adc7b5661d"
   },
   "outputs": [
    {
     "data": {
      "text/plain": [
       "Output hidden; open in https://colab.research.google.com to view."
      ]
     },
     "metadata": {},
     "output_type": "display_data"
    }
   ],
   "source": [
    "for i in range(10):\n",
    "    anchor, positive, negative,label = train_dataset[i]\n",
    "    plt.figure(figsize=(10, 3))\n",
    "\n",
    "    plt.subplot(1, 3, 1)\n",
    "    plt.imshow(TF.to_pil_image(anchor))\n",
    "    plt.title(f\"Anchor label: {label}\")\n",
    "    plt.axis(\"off\")\n",
    "\n",
    "    plt.subplot(1, 3, 2)\n",
    "    plt.imshow(TF.to_pil_image(positive))\n",
    "    plt.title(\"Positive (same ID)\")\n",
    "    plt.axis(\"off\")\n",
    "\n",
    "    plt.subplot(1, 3, 3)\n",
    "    plt.imshow(TF.to_pil_image(negative))\n",
    "    plt.title(\"Negative (diff ID)\")\n",
    "    plt.axis(\"off\")\n",
    "\n",
    "    plt.tight_layout()\n",
    "    plt.show()"
   ]
  },
  {
   "cell_type": "code",
   "execution_count": 16,
   "metadata": {
    "executionInfo": {
     "elapsed": 14,
     "status": "ok",
     "timestamp": 1751111277031,
     "user": {
      "displayName": "Aneek Mallick",
      "userId": "16622317247729757216"
     },
     "user_tz": -330
    },
    "id": "at_pztVjkUVT"
   },
   "outputs": [],
   "source": [
    "train_loader = DataLoader(\n",
    "    train_dataset,\n",
    "    batch_size=128,\n",
    "    shuffle=True,\n",
    "    num_workers=2,\n",
    "    worker_init_fn=seed_worker,\n",
    "    generator=g,\n",
    "    pin_memory=True\n",
    ")\n",
    "val_loader = DataLoader(\n",
    "    val_dataset,\n",
    "    batch_size=128,\n",
    "    shuffle=False,\n",
    "    num_workers=2,\n",
    "    worker_init_fn=seed_worker,\n",
    "    generator=g,\n",
    "    pin_memory=True\n",
    ")"
   ]
  },
  {
   "cell_type": "code",
   "execution_count": 17,
   "metadata": {
    "colab": {
     "base_uri": "https://localhost:8080/"
    },
    "executionInfo": {
     "elapsed": 351,
     "status": "ok",
     "timestamp": 1751111277388,
     "user": {
      "displayName": "Aneek Mallick",
      "userId": "16622317247729757216"
     },
     "user_tz": -330
    },
    "id": "JelSjTv4O2E6",
    "outputId": "0e5fd936-f28a-40b3-d8e8-b657015ce5bf"
   },
   "outputs": [
    {
     "name": "stderr",
     "output_type": "stream",
     "text": [
      "/usr/local/lib/python3.11/dist-packages/torchvision/models/_utils.py:208: UserWarning: The parameter 'pretrained' is deprecated since 0.13 and may be removed in the future, please use 'weights' instead.\n",
      "  warnings.warn(\n",
      "/usr/local/lib/python3.11/dist-packages/torchvision/models/_utils.py:223: UserWarning: Arguments other than a weight enum or `None` for 'weights' are deprecated since 0.13 and may be removed in the future. The current behavior is equivalent to passing `weights=ResNet18_Weights.IMAGENET1K_V1`. You can also use `weights=ResNet18_Weights.DEFAULT` to get the most up-to-date weights.\n",
      "  warnings.warn(msg)\n",
      "Downloading: \"https://download.pytorch.org/models/resnet18-f37072fd.pth\" to /root/.cache/torch/hub/checkpoints/resnet18-f37072fd.pth\n",
      "100%|██████████| 44.7M/44.7M [00:00<00:00, 189MB/s]\n"
     ]
    }
   ],
   "source": [
    "model = EmbeddingNet(embedding_size=128).cuda()\n",
    "optimizer = optim.Adam(model.parameters(), lr=2e-5)"
   ]
  },
  {
   "cell_type": "code",
   "execution_count": 18,
   "metadata": {
    "executionInfo": {
     "elapsed": 1286,
     "status": "ok",
     "timestamp": 1751111278757,
     "user": {
      "displayName": "Aneek Mallick",
      "userId": "16622317247729757216"
     },
     "user_tz": -330
    },
    "id": "E6N_DsNBsfbY"
   },
   "outputs": [],
   "source": [
    "from sklearn.metrics import accuracy_score, precision_recall_fscore_support\n",
    "from sklearn.metrics.pairwise import cosine_similarity\n",
    "from collections import defaultdict"
   ]
  },
  {
   "cell_type": "code",
   "execution_count": null,
   "metadata": {
    "executionInfo": {
     "elapsed": 121,
     "status": "ok",
     "timestamp": 1751111278796,
     "user": {
      "displayName": "Aneek Mallick",
      "userId": "16622317247729757216"
     },
     "user_tz": -330
    },
    "id": "WCdRCjjI4nA4"
   },
   "outputs": [],
   "source": [
    "def evaluate_model(custom_model, loader, device, threshold=0.5):\n",
    "    y_true = []\n",
    "    y_pred = []\n",
    "    count=0\n",
    "    with torch.no_grad():\n",
    "        for anchor, positive, negative, _ in loader:\n",
    "            count+=1\n",
    "            print(f\"\\rProcessing Evaluation... {count*100/len(loader):.6f}%\", end=\"\")\n",
    "            anchor = anchor.to(device)\n",
    "            positive = positive.to(device)\n",
    "            negative = negative.to(device)\n",
    "\n",
    "            anchor_emb = custom_model(anchor)\n",
    "            positive_emb = custom_model(positive)\n",
    "            negative_emb = custom_model(negative)\n",
    "\n",
    "            sim_ap = F.cosine_similarity(anchor_emb, positive_emb, dim=1)\n",
    "            sim_an = F.cosine_similarity(anchor_emb, negative_emb, dim=1)\n",
    "\n",
    "            pred_ap = (sim_ap >= threshold).int().tolist()\n",
    "            pred_an = (sim_an >= threshold).int().tolist()\n",
    "\n",
    "            y_true += [1] * len(pred_ap) + [0] * len(pred_an)\n",
    "            y_pred += pred_ap + pred_an\n",
    "\n",
    "    acc = accuracy_score(y_true, y_pred)\n",
    "    prec, rec, f1, _ = precision_recall_fscore_support(y_true, y_pred, average='binary')\n",
    "\n",
    "    print(f\"\\nEvaluation: Accuracy : {acc:.6f}\\tPrecision: {prec:.6f}\\tRecall: {rec:.6f}\\tF1 Score : {f1:.6f}\")"
   ]
  },
  {
   "cell_type": "code",
   "execution_count": 20,
   "metadata": {
    "executionInfo": {
     "elapsed": 13,
     "status": "ok",
     "timestamp": 1751111278806,
     "user": {
      "displayName": "Aneek Mallick",
      "userId": "16622317247729757216"
     },
     "user_tz": -330
    },
    "id": "yZ9Y_USK6GNF"
   },
   "outputs": [],
   "source": [
    "device = torch.device(\"cuda\" if torch.cuda.is_available() else \"cpu\")"
   ]
  },
  {
   "cell_type": "code",
   "execution_count": 21,
   "metadata": {
    "executionInfo": {
     "elapsed": 10,
     "status": "ok",
     "timestamp": 1751111278826,
     "user": {
      "displayName": "Aneek Mallick",
      "userId": "16622317247729757216"
     },
     "user_tz": -330
    },
    "id": "3eWdqy1b6pfb"
   },
   "outputs": [],
   "source": [
    "root_path = '/content/drive/MyDrive/DATASET/Comys_Hackathon5'"
   ]
  },
  {
   "cell_type": "code",
   "execution_count": null,
   "metadata": {
    "colab": {
     "background_save": true,
     "base_uri": "https://localhost:8080/"
    },
    "id": "9cIVGfM4Vu9P"
   },
   "outputs": [
    {
     "name": "stdout",
     "output_type": "stream",
     "text": [
      "Processing... 100.000000%\n",
      "Training.....\n",
      "Epoch: 1\tLoss: 0.046505, Acc: 0.678757, Prec: 0.608902, Rec: 0.999481, F1: 0.756767\n",
      "Processing Evaluation... 100.000000%\n",
      "Evaluation: Accuracy : 0.761002\tPrecision: 0.677079\tRecall: 0.997969\tF1 Score : 0.806787\n",
      "Processing... 100.000000%\n",
      "Training.....\n",
      "Epoch: 2\tLoss: 0.001564, Acc: 0.744140, Prec: 0.661498, Rec: 1.000000, F1: 0.796267\n",
      "Processing Evaluation... 100.000000%\n",
      "Evaluation: Accuracy : 0.769634\tPrecision: 0.685103\tRecall: 0.997969\tF1 Score : 0.812457\n",
      "Processing... 100.000000%\n",
      "Training.....\n",
      "Epoch: 3\tLoss: 0.000305, Acc: 0.754525, Prec: 0.670713, Rec: 1.000000, F1: 0.802906\n",
      "Processing Evaluation... 100.000000%\n",
      "Evaluation: Accuracy : 0.777928\tPrecision: 0.692904\tRecall: 0.998307\tF1 Score : 0.818031\n",
      "Processing... 100.000000%\n",
      "Training.....\n",
      "Epoch: 4\tLoss: 0.000174, Acc: 0.759828, Prec: 0.675519, Rec: 1.000000, F1: 0.806340\n",
      "Processing Evaluation... 100.000000%\n",
      "Evaluation: Accuracy : 0.774204\tPrecision: 0.689252\tRecall: 0.998646\tF1 Score : 0.815593\n",
      "Processing... 100.000000%\n",
      "Training.....\n",
      "Epoch: 5\tLoss: 0.000109, Acc: 0.763574, Prec: 0.678955, Rec: 1.000000, F1: 0.808783\n",
      "Processing Evaluation... 100.000000%\n",
      "Evaluation: Accuracy : 0.775051\tPrecision: 0.689881\tRecall: 0.999323\tF1 Score : 0.816259\n",
      "Processing... 100.000000%\n",
      "Training.....\n",
      "Epoch: 6\tLoss: 0.000128, Acc: 0.766986, Prec: 0.682115, Rec: 1.000000, F1: 0.811021\n",
      "Processing Evaluation... 100.000000%\n",
      "Evaluation: Accuracy : 0.781483\tPrecision: 0.696155\tRecall: 0.998984\tF1 Score : 0.820520\n",
      "Processing... 100.000000%\n",
      "Training.....\n",
      "Epoch: 7\tLoss: 0.000081, Acc: 0.766911, Prec: 0.682046, Rec: 1.000000, F1: 0.810972\n",
      "Processing Evaluation... 100.000000%\n",
      "Evaluation: Accuracy : 0.780298\tPrecision: 0.695007\tRecall: 0.998984\tF1 Score : 0.819722\n",
      "Processing... 100.000000%\n",
      "Training.....\n",
      "Epoch: 8\tLoss: 0.000065, Acc: 0.770546, Prec: 0.685444, Rec: 1.000000, F1: 0.813369\n",
      "Processing Evaluation... 100.000000%\n",
      "Evaluation: Accuracy : 0.781652\tPrecision: 0.696319\tRecall: 0.998984\tF1 Score : 0.820634\n",
      "Processing... 100.000000%\n",
      "Training.....\n",
      "Epoch: 9\tLoss: 0.000047, Acc: 0.776072, Prec: 0.690676, Rec: 1.000000, F1: 0.817041\n",
      "Processing Evaluation... 100.000000%\n",
      "Evaluation: Accuracy : 0.784699\tPrecision: 0.699384\tRecall: 0.998646\tF1 Score : 0.822644\n",
      "Processing... 100.000000%\n",
      "Training.....\n",
      "Epoch: 10\tLoss: 0.000027, Acc: 0.777481, Prec: 0.692023, Rec: 1.000000, F1: 0.817983\n",
      "Processing Evaluation... 100.000000%\n",
      "Evaluation: Accuracy : 0.782160\tPrecision: 0.696905\tRecall: 0.998646\tF1 Score : 0.820927\n",
      "Processing... 100.000000%\n",
      "Training.....\n",
      "Epoch: 11\tLoss: 0.000022, Acc: 0.776591, Prec: 0.691172, Rec: 1.000000, F1: 0.817388\n",
      "Processing Evaluation... 100.000000%\n",
      "Evaluation: Accuracy : 0.786561\tPrecision: 0.701117\tRecall: 0.998984\tF1 Score : 0.823956\n",
      "Processing... 100.000000%\n",
      "Training.....\n",
      "Epoch: 12\tLoss: 0.000038, Acc: 0.781969, Prec: 0.696348, Rec: 1.000000, F1: 0.820997\n",
      "Processing Evaluation... 100.000000%\n",
      "Evaluation: Accuracy : 0.796378\tPrecision: 0.710913\tRecall: 0.998984\tF1 Score : 0.830683\n",
      "Processing... 26.415094%"
     ]
    }
   ],
   "source": [
    "threshold=0.6\n",
    "\n",
    "for epoch in range(20):\n",
    "    model.train()\n",
    "    total_loss = 0\n",
    "    complete=0\n",
    "    correct = 0\n",
    "    total = 0\n",
    "    tp = 0\n",
    "    fp = 0\n",
    "    fn = 0\n",
    "\n",
    "    for anchor, positive, negative, _ in train_loader:\n",
    "        complete+=1\n",
    "        print(f\"\\rProcessing... {complete*100/len(train_loader):.6f}%\",end=\"\")\n",
    "\n",
    "        anchor = anchor.cuda()\n",
    "        positive = positive.cuda()\n",
    "        negative = negative.cuda()\n",
    "\n",
    "        anchor_out = model(anchor)\n",
    "        positive_out = model(positive)\n",
    "        negative_out = model(negative)\n",
    "\n",
    "        loss = triplet_loss(anchor_out, positive_out, negative_out)\n",
    "        total_loss += loss.item()\n",
    "\n",
    "        optimizer.zero_grad()\n",
    "        loss.backward()\n",
    "        optimizer.step()\n",
    "\n",
    "        sim_ap = F.cosine_similarity(anchor_out, positive_out)\n",
    "        sim_an = F.cosine_similarity(anchor_out, negative_out)\n",
    "\n",
    "        pred_ap = (sim_ap >= threshold).int()\n",
    "        pred_an = (sim_an >= threshold).int()\n",
    "\n",
    "        tp += (pred_ap == 1).sum()\n",
    "        fn += (pred_ap == 0).sum()\n",
    "        fp += (pred_an == 1).sum()\n",
    "        correct += (pred_ap == 1).sum() + (pred_an == 0).sum()\n",
    "        total += pred_ap.numel() + pred_an.numel()\n",
    "\n",
    "    accuracy = correct.float() / total\n",
    "    precision = tp.float() / (tp + fp + 1e-8)\n",
    "    recall = tp.float() / (tp + fn + 1e-8)\n",
    "    f1 = 2 * precision * recall / (precision + recall + 1e-8)\n",
    "\n",
    "    print(f\"\\nTraining.....\\nEpoch: {epoch+1}\\tLoss: {total_loss/len(train_loader):.6f}, Acc: {accuracy:.6f}, Prec: {precision:.6f}, Rec: {recall:.6f}, F1: {f1:.6f}\")\n",
    "\n",
    "    torch.save(model.state_dict(), os.path.join(root_path,f\"resnet18_embed_face_recognition_epoch{epoch+1}-v05.pth\"))\n",
    "\n",
    "    model.eval()\n",
    "    evaluate_model(model, val_loader, device, threshold)"
   ]
  },
  {
   "cell_type": "code",
   "execution_count": null,
   "metadata": {
    "id": "pL_g4sUu5tFD"
   },
   "outputs": [],
   "source": [
    "root_path = '/content/drive/MyDrive/DATASET/Comys_Hackathon5/Comys_Hackathon5'\n",
    "torch.save(model.state_dict(), os.path.join(root_path,\"resnet18_embed_face_recognition-v05.pth\"))"
   ]
  },
  {
   "cell_type": "code",
   "execution_count": null,
   "metadata": {
    "id": "bdroG1EDNeGv"
   },
   "outputs": [],
   "source": [
    "device = torch.device(\"cuda\" if torch.cuda.is_available() else \"cpu\")"
   ]
  },
  {
   "cell_type": "code",
   "execution_count": null,
   "metadata": {
    "id": "0xHc5chv3D4O"
   },
   "outputs": [],
   "source": [
    "model = EmbeddingNet(embedding_dim=256,pretrained=False).to(device)\n",
    "model.load_state_dict(torch.load(\"model_final.pth\", map_location=device))"
   ]
  },
  {
   "cell_type": "code",
   "execution_count": null,
   "metadata": {
    "colab": {
     "base_uri": "https://localhost:8080/"
    },
    "collapsed": true,
    "executionInfo": {
     "elapsed": 42,
     "status": "ok",
     "timestamp": 1750403632690,
     "user": {
      "displayName": "Rob",
      "userId": "00940694747606301121"
     },
     "user_tz": -330
    },
    "id": "phH3AQQvnPSf",
    "outputId": "38c65403-6a23-4bfc-9ed6-5b3ba4dc8c68"
   },
   "outputs": [
    {
     "data": {
      "text/plain": [
       "EmbeddingNet(\n",
       "  (backbone): ResNet(\n",
       "    (conv1): Conv2d(3, 64, kernel_size=(7, 7), stride=(2, 2), padding=(3, 3), bias=False)\n",
       "    (bn1): BatchNorm2d(64, eps=1e-05, momentum=0.1, affine=True, track_running_stats=True)\n",
       "    (relu): ReLU(inplace=True)\n",
       "    (maxpool): MaxPool2d(kernel_size=3, stride=2, padding=1, dilation=1, ceil_mode=False)\n",
       "    (layer1): Sequential(\n",
       "      (0): BasicBlock(\n",
       "        (conv1): Conv2d(64, 64, kernel_size=(3, 3), stride=(1, 1), padding=(1, 1), bias=False)\n",
       "        (bn1): BatchNorm2d(64, eps=1e-05, momentum=0.1, affine=True, track_running_stats=True)\n",
       "        (relu): ReLU(inplace=True)\n",
       "        (conv2): Conv2d(64, 64, kernel_size=(3, 3), stride=(1, 1), padding=(1, 1), bias=False)\n",
       "        (bn2): BatchNorm2d(64, eps=1e-05, momentum=0.1, affine=True, track_running_stats=True)\n",
       "      )\n",
       "      (1): BasicBlock(\n",
       "        (conv1): Conv2d(64, 64, kernel_size=(3, 3), stride=(1, 1), padding=(1, 1), bias=False)\n",
       "        (bn1): BatchNorm2d(64, eps=1e-05, momentum=0.1, affine=True, track_running_stats=True)\n",
       "        (relu): ReLU(inplace=True)\n",
       "        (conv2): Conv2d(64, 64, kernel_size=(3, 3), stride=(1, 1), padding=(1, 1), bias=False)\n",
       "        (bn2): BatchNorm2d(64, eps=1e-05, momentum=0.1, affine=True, track_running_stats=True)\n",
       "      )\n",
       "    )\n",
       "    (layer2): Sequential(\n",
       "      (0): BasicBlock(\n",
       "        (conv1): Conv2d(64, 128, kernel_size=(3, 3), stride=(2, 2), padding=(1, 1), bias=False)\n",
       "        (bn1): BatchNorm2d(128, eps=1e-05, momentum=0.1, affine=True, track_running_stats=True)\n",
       "        (relu): ReLU(inplace=True)\n",
       "        (conv2): Conv2d(128, 128, kernel_size=(3, 3), stride=(1, 1), padding=(1, 1), bias=False)\n",
       "        (bn2): BatchNorm2d(128, eps=1e-05, momentum=0.1, affine=True, track_running_stats=True)\n",
       "        (downsample): Sequential(\n",
       "          (0): Conv2d(64, 128, kernel_size=(1, 1), stride=(2, 2), bias=False)\n",
       "          (1): BatchNorm2d(128, eps=1e-05, momentum=0.1, affine=True, track_running_stats=True)\n",
       "        )\n",
       "      )\n",
       "      (1): BasicBlock(\n",
       "        (conv1): Conv2d(128, 128, kernel_size=(3, 3), stride=(1, 1), padding=(1, 1), bias=False)\n",
       "        (bn1): BatchNorm2d(128, eps=1e-05, momentum=0.1, affine=True, track_running_stats=True)\n",
       "        (relu): ReLU(inplace=True)\n",
       "        (conv2): Conv2d(128, 128, kernel_size=(3, 3), stride=(1, 1), padding=(1, 1), bias=False)\n",
       "        (bn2): BatchNorm2d(128, eps=1e-05, momentum=0.1, affine=True, track_running_stats=True)\n",
       "      )\n",
       "    )\n",
       "    (layer3): Sequential(\n",
       "      (0): BasicBlock(\n",
       "        (conv1): Conv2d(128, 256, kernel_size=(3, 3), stride=(2, 2), padding=(1, 1), bias=False)\n",
       "        (bn1): BatchNorm2d(256, eps=1e-05, momentum=0.1, affine=True, track_running_stats=True)\n",
       "        (relu): ReLU(inplace=True)\n",
       "        (conv2): Conv2d(256, 256, kernel_size=(3, 3), stride=(1, 1), padding=(1, 1), bias=False)\n",
       "        (bn2): BatchNorm2d(256, eps=1e-05, momentum=0.1, affine=True, track_running_stats=True)\n",
       "        (downsample): Sequential(\n",
       "          (0): Conv2d(128, 256, kernel_size=(1, 1), stride=(2, 2), bias=False)\n",
       "          (1): BatchNorm2d(256, eps=1e-05, momentum=0.1, affine=True, track_running_stats=True)\n",
       "        )\n",
       "      )\n",
       "      (1): BasicBlock(\n",
       "        (conv1): Conv2d(256, 256, kernel_size=(3, 3), stride=(1, 1), padding=(1, 1), bias=False)\n",
       "        (bn1): BatchNorm2d(256, eps=1e-05, momentum=0.1, affine=True, track_running_stats=True)\n",
       "        (relu): ReLU(inplace=True)\n",
       "        (conv2): Conv2d(256, 256, kernel_size=(3, 3), stride=(1, 1), padding=(1, 1), bias=False)\n",
       "        (bn2): BatchNorm2d(256, eps=1e-05, momentum=0.1, affine=True, track_running_stats=True)\n",
       "      )\n",
       "    )\n",
       "    (layer4): Sequential(\n",
       "      (0): BasicBlock(\n",
       "        (conv1): Conv2d(256, 512, kernel_size=(3, 3), stride=(2, 2), padding=(1, 1), bias=False)\n",
       "        (bn1): BatchNorm2d(512, eps=1e-05, momentum=0.1, affine=True, track_running_stats=True)\n",
       "        (relu): ReLU(inplace=True)\n",
       "        (conv2): Conv2d(512, 512, kernel_size=(3, 3), stride=(1, 1), padding=(1, 1), bias=False)\n",
       "        (bn2): BatchNorm2d(512, eps=1e-05, momentum=0.1, affine=True, track_running_stats=True)\n",
       "        (downsample): Sequential(\n",
       "          (0): Conv2d(256, 512, kernel_size=(1, 1), stride=(2, 2), bias=False)\n",
       "          (1): BatchNorm2d(512, eps=1e-05, momentum=0.1, affine=True, track_running_stats=True)\n",
       "        )\n",
       "      )\n",
       "      (1): BasicBlock(\n",
       "        (conv1): Conv2d(512, 512, kernel_size=(3, 3), stride=(1, 1), padding=(1, 1), bias=False)\n",
       "        (bn1): BatchNorm2d(512, eps=1e-05, momentum=0.1, affine=True, track_running_stats=True)\n",
       "        (relu): ReLU(inplace=True)\n",
       "        (conv2): Conv2d(512, 512, kernel_size=(3, 3), stride=(1, 1), padding=(1, 1), bias=False)\n",
       "        (bn2): BatchNorm2d(512, eps=1e-05, momentum=0.1, affine=True, track_running_stats=True)\n",
       "      )\n",
       "    )\n",
       "    (avgpool): AdaptiveAvgPool2d(output_size=(1, 1))\n",
       "    (fc): Linear(in_features=512, out_features=256, bias=True)\n",
       "  )\n",
       ")"
      ]
     },
     "execution_count": 23,
     "metadata": {},
     "output_type": "execute_result"
    }
   ],
   "source": [
    "model.eval()"
   ]
  }
 ],
 "metadata": {
  "accelerator": "GPU",
  "colab": {
   "gpuType": "T4",
   "name": "",
   "version": ""
  },
  "kernelspec": {
   "display_name": "Python 3",
   "name": "python3"
  },
  "language_info": {
   "name": "python"
  }
 },
 "nbformat": 4,
 "nbformat_minor": 0
}
